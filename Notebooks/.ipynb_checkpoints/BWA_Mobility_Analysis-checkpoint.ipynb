{
 "cells": [
  {
   "cell_type": "markdown",
   "id": "9722a890",
   "metadata": {},
   "source": [
    "# Analysis of Botswana MapBox Mobility Data\n",
    "\n",
    "The purpose of this notebook is to visualize and assess the MapBox mobility data over Botswana for School and Non-School samples. The below analysis uses the hourly mobility data for October, November, December 2023.\n",
    "\n",
    "MapBox Docs: https://docs.mapbox.com/data/movement/guides\n",
    "\n",
    "The **Data Pre-Processing** section queries each school and non-school sample in the Botswana geojson cleaned schools file, generates a 300m buffer extent surrounding the school/non-school point and extracts the corresponding mobility data over that region. We cluster the data by Administrative Boundaries Level 1 and save the categorized data in the format of a dictionary of dataframes, saving via pickle. You can choose to go through each step of the data pre-processing to generate the dictionary of dataframes, or skip to the **Data Visualization** section to load the pickled dictionary and generate the plots."
   ]
  },
  {
   "cell_type": "markdown",
   "id": "c3782e32",
   "metadata": {},
   "source": [
    "## Imports and Setup"
   ]
  },
  {
   "cell_type": "code",
   "execution_count": null,
   "id": "2e155a1c",
   "metadata": {},
   "outputs": [],
   "source": [
    "import os\n",
    "import requests\n",
    "from io import StringIO\n",
    "import pandas as pd\n",
    "import folium\n",
    "from shapely.geometry import Point\n",
    "import geopandas as gpd\n",
    "from functools import partial\n",
    "import pyproj\n",
    "from shapely import geometry\n",
    "from shapely.geometry import Point, Polygon, LineString\n",
    "from shapely.ops import transform\n",
    "import matplotlib.pyplot as plt\n",
    "from pyproj import Transformer, CRS\n",
    "import mercantile\n",
    "from itertools import combinations\n",
    "from sklearn.cluster import DBSCAN, KMeans\n",
    "import seaborn as sn\n",
    "import pickle"
   ]
  },
  {
   "cell_type": "markdown",
   "id": "0e83b17d",
   "metadata": {},
   "source": [
    "## Loading Data"
   ]
  },
  {
   "cell_type": "code",
   "execution_count": null,
   "id": "8259497f",
   "metadata": {},
   "outputs": [],
   "source": [
    "# Note: filepaths have been updated to Kelsey Doerksen's local machine until access re-instated\n",
    "mobility_filepath = '/Users/kelseydoerksen/Desktop/Giga/SchoolMapping/BWA/Mobility'\n",
    "\n",
    "# Loading hourly mobility data\n",
    "hourly_movement_df = pd.read_csv('{}/weekday-weekend-1hour.csv'.format(mobility_filepath))\n",
    "\n",
    "# Loading 4-hour mobility day\n",
    "day_of_week_4hour_df = pd.read_csv('{}/day_of_week-4hour.csv'.format(mobility_filepath))\n",
    "\n",
    "# Loading BWA school geojson data\n",
    "school_df = gpd.read_file('/Users/kelseydoerksen/Desktop/Giga/SchoolMapping/BWA/BWA_train.geojson')"
   ]
  },
  {
   "cell_type": "markdown",
   "id": "b9df97cb",
   "metadata": {},
   "source": [
    "## Data Pre-Processing\n",
    "We would like to aggregate and analyze the activity associated with individual school and non-school samples.\n"
   ]
  },
  {
   "cell_type": "markdown",
   "id": "d9e7ca92",
   "metadata": {},
   "source": [
    "### Adding Mobility Information"
   ]
  },
  {
   "cell_type": "markdown",
   "id": "d2b603c4",
   "metadata": {},
   "source": [
    "### Intersection Analysis\n",
    "Only include mobility information if the school directly intersects with the available MapBox mobility data. we would like to spatially join the school/non-school point layer with the MapBox mobility polygon layer, retaining the point geometries and grabbing the attributes of the intersecting polygons (i.e. the activity data)"
   ]
  },
  {
   "cell_type": "code",
   "execution_count": null,
   "id": "1593de38",
   "metadata": {},
   "outputs": [],
   "source": [
    "def get_polygon_from_tile(geography):\n",
    "    \"\"\"\n",
    "    Converts the mercantile quadkey to polygon\n",
    "    \n",
    "    Args:\n",
    "        df: dataframe \n",
    "    \"\"\"\n",
    "    tile = mercantile.quadkey_to_tile(str(geography))\n",
    "    return Polygon(mercantile.feature(tile)['geometry']['coordinates'][0])"
   ]
  },
  {
   "cell_type": "code",
   "execution_count": null,
   "id": "22f7bdb1",
   "metadata": {},
   "outputs": [],
   "source": [
    "def add_mobility_data_intersection(movement_df, school_df):\n",
    "    \"\"\"\n",
    "    Adds movement data to the school df\n",
    "    \"\"\"\n",
    "    # Add mercantile tile as polygon to movement df\n",
    "    movement_df['mercantile_polygon'] = movement_df['geography'].apply(get_polygon_from_tile)\n",
    "    # Change name to geometry\n",
    "    movement_df = movement_df.rename(columns={'mercantile_polygon': 'geometry'})\n",
    "    # Transform mobility data to gpd\n",
    "    movement_gdf = gpd.GeoDataFrame(movement_df, crs=\"EPSG:4326\")\n",
    "    \n",
    "    if 'geo' in school_df.columns:\n",
    "        school_df = school_df.rename(columns={'geo': 'geometry'})\n",
    "        school_df.set_geometry(\"geometry\")\n",
    "\n",
    "    # Combine school/non-school samples with mobility data\n",
    "    schools_with_mobility = school_df.sjoin(movement_gdf, how='left')\n",
    "\n",
    "    # Drop if school does not intersect with available MapBox mobility data\n",
    "    schools_with_mobility = schools_with_mobility.dropna(subset=[\"geography\"])\n",
    "    \n",
    "    return schools_with_mobility"
   ]
  },
  {
   "cell_type": "code",
   "execution_count": null,
   "id": "a49be210",
   "metadata": {},
   "outputs": [],
   "source": [
    "# Generate circular boundary around school at 300m radius\n",
    "def aeqd_reproj_buffer(center, radius=300):\n",
    "    \"\"\"\n",
    "    Converts center coordinates to AEQD projection,\n",
    "    draws a circle of given radius around the center coordinates,\n",
    "    converts both polygons back to original ESRI:54009\n",
    "    \n",
    "    Args:\n",
    "        center center coordinates of the circle (derived from school location)\n",
    "        radius (integer): circle's radius in meters.\n",
    "    \n",
    "    Returns:\n",
    "        A shapely.geometry Polygon object for circle of given radius.\n",
    "    \"\"\"\n",
    "    lat = center.y\n",
    "    lon = center.x\n",
    "    \n",
    "    esri54009_to_epsg4326 = Transformer.from_crs(\"ESRI:54009\", \"EPSG:4326\", always_xy=True)\n",
    "    epsg4326_to_aeqd = Transformer.from_crs(\"EPSG:4326\", \"ESRI:54032\")\n",
    "    aeqd_to_epsg4326 = Transformer.from_crs(\"ESRI:54032\", \"EPSG:4326\", always_xy=False)\n",
    "\n",
    "    # Transform the center coordinates from 54009 to AEQD\n",
    "    point_epsg4326 = Point(esri54009_to_epsg4326.transform(lon, lat))\n",
    "    point_transformed = Point(epsg4326_to_aeqd.transform(point_epsg4326.x, point_epsg4326.y))\n",
    "    \n",
    "    # Get buffer of defined radius\n",
    "    buffer = point_transformed.buffer(radius)\n",
    "    \n",
    "    # Get the polygon with lat lon coordinates\n",
    "    circle_poly = transform(aeqd_to_epsg4326.transform, buffer)\n",
    "    \n",
    "    return circle_poly"
   ]
  },
  {
   "cell_type": "code",
   "execution_count": null,
   "id": "7e6bc643",
   "metadata": {},
   "outputs": [],
   "source": [
    "# Get a list of the mapbox data that is overlapping the radius extent we specified\n",
    "def generate_quadkeys(circle_poly, zoom):\n",
    "    \"\"\"\n",
    "    Generate a list of quadkeys that overlap our circles\n",
    "    Args:\n",
    "        circle_poly (shapely.geometry Polygon): circle polygon object drawn \n",
    "            around a school/non-school\n",
    "        zoom (integer): zoom level.\n",
    "        \n",
    "    Return:\n",
    "        List of quadkeys as string\n",
    "    \"\"\"\n",
    "    return [mercantile.quadkey(x) for x in mercantile.tiles(*circle_poly.bounds, zoom)]"
   ]
  },
  {
   "cell_type": "code",
   "execution_count": null,
   "id": "58853c27",
   "metadata": {},
   "outputs": [],
   "source": [
    "def add_movement_data_buffer(sample_df, mobility_df):\n",
    "    \"\"\"\n",
    "    Adding mobility data based on quadkey intersections for buffer analysis\n",
    "    \"\"\"\n",
    "    full_data = []\n",
    "    for i in range(len(sample_df)):\n",
    "        data_list = []\n",
    "        for z18_quadkey in sample_df.loc[i][\"z18_quadkeys\"]:\n",
    "            data_list.append(mobility_df[mobility_df[\"geography\"] == int(z18_quadkey)])\n",
    "        data_df = pd.concat(data_list)\n",
    "        data_df['UID'] = sample_df.loc[i]['UID']\n",
    "        data_df['name'] = sample_df.loc[i]['name']\n",
    "        full_data.append(data_df)\n",
    "    \n",
    "    if full_data:\n",
    "        full_df = pd.concat(full_data)\n",
    "        return full_df"
   ]
  },
  {
   "cell_type": "code",
   "execution_count": null,
   "id": "53b22486",
   "metadata": {},
   "outputs": [],
   "source": [
    "def add_movement_data(query_df, movement_df, month_subset, intersection_buffer):\n",
    "    \"\"\"\n",
    "    Add movement data if MapBox quadkey exists\n",
    "    Args:\n",
    "        df: school/non-school df\n",
    "        movement_df: MapBox mobility data df\n",
    "        timeperiod: month of movement data to query\n",
    "        intersection_buffer: buffer extent for intersection of mobility data surrounding school\n",
    "        \n",
    "    Return:\n",
    "        df with movement data\n",
    "    \"\"\"\n",
    "    date_dict = {\n",
    "        'oct': '2023-10-01',\n",
    "        'nov': '2023-11-01',\n",
    "        'dec': '2023-12-01'\n",
    "    }\n",
    "    print('Running for date subset: {}'.format(month_subset))\n",
    "    \n",
    "    # Make a copy of the df so we can filter things\n",
    "    movement_df_copy = movement_df.copy(deep=True)\n",
    "    \n",
    "    # Subset movement dict to the time we are interested in\n",
    "    if not month_subset == 'all':\n",
    "        movement_df_copy = movement_df_copy[movement_df[\"start_date\"] == date_dict['{}'.format(month_subset)]]\n",
    "    \n",
    "    if intersection_buffer == 0:\n",
    "        samples_with_mobility = add_mobility_data_intersection(movement_df_copy, query_df)\n",
    "        if not month_subset == 'all':\n",
    "            samples_with_mobility_date_subset = samples_with_mobility[samples_with_mobility[\"start_date\"] == date_dict['{}'.format(month_subset)]]\n",
    "        else:\n",
    "            return samples_with_mobility\n",
    "    else:\n",
    "        # Run for buffer\n",
    "        samples_with_mobility_date_subset = add_movement_data_buffer(query_df, movement_df_copy)\n",
    "    \n",
    "    return samples_with_mobility_date_subset"
   ]
  },
  {
   "cell_type": "code",
   "execution_count": null,
   "id": "9082ce35",
   "metadata": {},
   "outputs": [],
   "source": [
    "def calc_hourly_average_ai(df, time_period):\n",
    "    \"\"\"\n",
    "    Aggregate movement data to hourly sum based on \n",
    "    quadkeys that interset with user-defined buffer\n",
    "    and calculate the hourly average ai over \n",
    "    the time period for all of the samples\n",
    "    time_period == 0: weekday\n",
    "    time_period == 1: weekend\n",
    "    \"\"\"\n",
    "    grouped = df.groupby(['UID', 'agg_day_period', 'agg_time_period', 'start_date', 'end_date'])\n",
    "    sum_data = grouped.activity_index_total.sum()\n",
    "    sum_df = sum_data.reset_index()\n",
    "    \n",
    "    \n",
    "    hourly_df = sum_df[sum_df['agg_day_period'] == int(time_period)]\n",
    "    UIDS = hourly_df['UID'].unique().tolist()\n",
    "    data_list =[]\n",
    "    for uid in UIDS:\n",
    "        hourly_df_uid = hourly_df[hourly_df['UID'] == uid]\n",
    "        time_periods = hourly_df_uid['agg_time_period'].unique().tolist()\n",
    "        df_list = []\n",
    "        for t in time_periods:\n",
    "            df_new = pd.DataFrame()\n",
    "            subset_df = hourly_df_uid[hourly_df_uid['agg_time_period'] == t]\n",
    "            sum_ai = subset_df['activity_index_total'].sum()\n",
    "            df_new['agg_time_period'] = [t]\n",
    "            df_new['activity_index_total'] = [sum_ai]\n",
    "            df_new['UID'] = [uid]\n",
    "            df_list.append(df_new)\n",
    "        df_combined = pd.concat(df_list)\n",
    "        data_list.append(df_combined)\n",
    "    \n",
    "    if len(data_list) > 0:\n",
    "        df_final= pd.concat(data_list)   \n",
    "        mean_hourly_data = hourly_df.groupby(['agg_time_period']).activity_index_total.mean()\n",
    "    else:\n",
    "        mean_hourly_data = None\n",
    "    \n",
    "    return mean_hourly_data"
   ]
  },
  {
   "cell_type": "code",
   "execution_count": null,
   "id": "5e4f8a15",
   "metadata": {},
   "outputs": [],
   "source": [
    "def max_min_normalize(df):\n",
    "    \"\"\"\n",
    "    max-min normalizing to compare\n",
    "    data distributions\n",
    "    \"\"\"\n",
    "    normalized_df = (df-df.min())/(df.max()-df.min())\n",
    "    return normalized_df"
   ]
  },
  {
   "cell_type": "markdown",
   "id": "01f95219",
   "metadata": {},
   "source": [
    "## Clustering based on Location\n",
    "From MapBox: The data for each country is normalized within that country. Comparisons made over short timescales and short distances are more trustworthy than those made over long timescales and distances. Comparisons made over areas that have a high average activity are more trustworthy than those made over areas that have low average activity.\n",
    "\n",
    "Several clustering methods are shown below; K-Means, Admin Boundary Level2, and Admin Boundary Level1"
   ]
  },
  {
   "cell_type": "code",
   "execution_count": null,
   "id": "f084ddab",
   "metadata": {},
   "outputs": [],
   "source": [
    "# Get school data as coords\n",
    "coords = []\n",
    "for i in range(len(school_df)):\n",
    "    coords.append([school_df.loc[i].geometry.x, school_df.loc[i].geometry.y])"
   ]
  },
  {
   "cell_type": "code",
   "execution_count": null,
   "id": "7eb0fbcc",
   "metadata": {},
   "outputs": [],
   "source": [
    "# Using elbow method to determine number of clusters we should use\n",
    "wcss = []\n",
    "for i in range(1, 14):\n",
    "    kmeans = KMeans(n_clusters = i, init = 'k-means++', random_state = 42, n_init=10)\n",
    "    kmeans.fit(coords)\n",
    "    wcss.append(kmeans.inertia_)\n",
    "plt.plot(range(1, 14), wcss)\n",
    "plt.title('The Elbow Method')\n",
    "plt.xlabel('Number of clusters')\n",
    "plt.ylabel('WCSS')\n",
    "plt.show()"
   ]
  },
  {
   "cell_type": "code",
   "execution_count": null,
   "id": "6bb9151d",
   "metadata": {},
   "outputs": [],
   "source": [
    "def add_cluster_id(df, n_clusters):\n",
    "    \"\"\"\n",
    "    Add cluster id to dataframe\n",
    "    \"\"\"\n",
    "    # From plot, we see 4 is the optimal cluster number\n",
    "    kmeans = KMeans(n_clusters = 4, init = 'k-means++', random_state = 5,  max_iter=400, n_init=10)\n",
    "    y_kmeans = kmeans.fit_predict(coords)\n",
    "    k=pd.DataFrame(y_kmeans, columns=['cluster'])\n",
    "    \n",
    "    # add cluster class to school dataframe\n",
    "    df_with_cluster = school_df.join(k)\n",
    "    \n",
    "    return df_with_cluster"
   ]
  },
  {
   "cell_type": "code",
   "execution_count": null,
   "id": "7683d5e0",
   "metadata": {},
   "outputs": [],
   "source": [
    "# Add cluster id to dataframe\n",
    "school_df_with_clusters = add_cluster_id(school_df, 4)"
   ]
  },
  {
   "cell_type": "code",
   "execution_count": null,
   "id": "19edd94f",
   "metadata": {},
   "outputs": [],
   "source": [
    "filtered_label0 = school_df_with_clusters[school_df_with_clusters['cluster'] == 0]\n",
    "filtered_label1 = school_df_with_clusters[school_df_with_clusters['cluster'] == 1]\n",
    "filtered_label2 = school_df_with_clusters[school_df_with_clusters['cluster'] == 2]\n",
    "filtered_label3 = school_df_with_clusters[school_df_with_clusters['cluster'] == 3]\n",
    "\n",
    "plt.scatter(filtered_label0.geometry.x, filtered_label0.geometry.y, label='Cluster 0')\n",
    "plt.scatter(filtered_label1.geometry.x, filtered_label1.geometry.y, label='Cluster 1')\n",
    "plt.scatter(filtered_label2.geometry.x, filtered_label2.geometry.y, label='Cluster 2')\n",
    "plt.scatter(filtered_label3.geometry.x, filtered_label3.geometry.y, label='Cluster 3')\n",
    "plt.legend()\n",
    "plt.title('K-Means Clustered School and Non-school samples')\n",
    "plt.show()"
   ]
  },
  {
   "cell_type": "markdown",
   "id": "c22a9244",
   "metadata": {},
   "source": [
    "## Clustering via administrative boundaries\n",
    "We can also cluster via administrative boundaries, let's do this and see how many clusters we get, combining very small clusters together as MapBox notes that this is an ineffective way to analyze data"
   ]
  },
  {
   "cell_type": "code",
   "execution_count": null,
   "id": "98075c84",
   "metadata": {},
   "outputs": [],
   "source": [
    "def cluster_via_adm(sample_df, adm_level):\n",
    "    \"\"\"\n",
    "    Function to cluster data via ADM boundaries\n",
    "    :param: sample_df: df of school and non-school samples to cluster\n",
    "    :param: adm_level: administrative level to query for generating clusters\n",
    "    \"\"\"\n",
    "    # Load country admin levels\n",
    "    country_adm_levels = gpd.read_file('/Users/kelseydoerksen/Desktop/Giga/SchoolMapping/BWA/geoBoundaries-BWA-ADM{}.geojson'.format(adm_level))\n",
    "    \n",
    "    # Transform sample df to EPSG4326\n",
    "    sample_df_epsg4326 = sample_df.to_crs('EPSG:4326')\n",
    "    \n",
    "    # Get intersection of sample df with admin boundaries\n",
    "    sample_df_with_intersections = gpd.overlay(sample_df_epsg4326, country_adm_levels, how='intersection')\n",
    "    \n",
    "    # Plot clusters to observe\n",
    "    clusters = sample_df_with_intersections ['shapeName'].unique()\n",
    "    plt. figure(figsize=(8, 6))\n",
    "    for i in range(len(clusters)):\n",
    "        filt = sample_df_with_intersections [sample_df_with_intersections ['shapeName'] == clusters[i]]\n",
    "        plt.scatter(filt.geometry.x, filt.geometry.y, label=clusters[i])\n",
    "\n",
    "    plt.xlabel('Longitude')\n",
    "    plt.ylabel('Latitude')\n",
    "    plt.legend(loc='center left', bbox_to_anchor=(1, 0.5))\n",
    "    plt.title('Botswana ADM{} Boundary School/Non-School Sample Clustering'.format(adm_level))\n",
    "    plt.show()\n",
    "    \n",
    "    return sample_df_with_intersections"
   ]
  },
  {
   "cell_type": "code",
   "execution_count": null,
   "id": "28b80169",
   "metadata": {},
   "outputs": [],
   "source": [
    "# Clustering based on ADM2\n",
    "school_df_with_clusters_adm2 = cluster_via_adm(school_df, 2)"
   ]
  },
  {
   "cell_type": "code",
   "execution_count": null,
   "id": "4f4d9102",
   "metadata": {},
   "outputs": [],
   "source": [
    "# Clustering based on ADM1\n",
    "school_df_with_clusters = cluster_via_adm(school_df, 1)"
   ]
  },
  {
   "cell_type": "markdown",
   "id": "3a34fa65",
   "metadata": {},
   "source": [
    "Looking at above clustering methods, clustering via adminstrative boundaries level 2 may result in too small of sample sizes, which will result in our Mobility analysis not being meaningful. **We will proceed with Admin Boundaries 1 clustering**"
   ]
  },
  {
   "cell_type": "markdown",
   "id": "9402cc6c",
   "metadata": {},
   "source": [
    "### School and Non-School Sample Selection\n",
    "For initial demo, 3 schools and non-schools are selected randomly via QGIS manual inspection in rural and urban areas based on the definition in the BWA_train.gejson file. \n",
    "\n",
    "Non-Schools are selected by finding a close non-school point to a school point.\n",
    "\n",
    "The definitions of each type of non-school are from their UID is:\n",
    "\n",
    "Urban:\n",
    "- OSM-BWA-NON_SCHOOL-00000835: Cloud Networks Business Center\n",
    "- OSM-BWA-NON_SCHOOL-00000849: Mmopane Police\n",
    "- OVERTURE-BWA-NON_SCHOOL-00000420: Mbizi Guest House Sebina\n",
    "\n",
    "Rural: \n",
    "- OSM-BWA-NON_SCHOOL-00000813: Bokspits Clinic\n",
    "- OSM-BWA-NON_SCHOOL-00000561: Sanitary Checkpoint\n",
    "- OSM-BWA-NON_SCHOOL-00000027: Game Scouts - Park Entry\n"
   ]
  },
  {
   "cell_type": "code",
   "execution_count": null,
   "id": "c1a6bf8b",
   "metadata": {},
   "outputs": [],
   "source": [
    "# Uncomment if you would like to only run on a small subset of the schools\n",
    "\n",
    "# Subsetting data into rural-school, rural-nonschool, urban-school, urban-nonschool\n",
    "# Samples selected based on visiual inspection in QGIS \n",
    "'''\n",
    "urban_schools_subset = ['OSM-BWA-SCHOOL-00000103', 'OSM-BWA-SCHOOL-00000152', 'UNICEF-BWA-SCHOOL-00000048']\n",
    "rural_schools_subset = ['UNICEF-BWA-SCHOOL-00000335', 'UNICEF-BWA-SCHOOL-00000683', 'UNICEF-BWA-SCHOOL-00000096']\n",
    "urban_non_schools_subset = ['OSM-BWA-NON_SCHOOL-00000835', 'OSM-BWA-NON_SCHOOL-00000849', 'OVERTURE-BWA-NON_SCHOOL-00000420']\n",
    "rural_non_schools_subset = ['OSM-BWA-NON_SCHOOL-00000813', 'OSM-BWA-NON_SCHOOL-00000561', 'OSM-BWA-NON_SCHOOL-00000027']\n",
    "\n",
    "rural_school_df = school_df.copy(deep=True)[school_df['UID'].isin(rural_schools)]\n",
    "urban_school_df = school_df.copy(deep=True)[school_df['UID'].isin(urban_schools)]\n",
    "rural_nonschool_df = school_df.copy(deep=True)[school_df['UID'].isin(rural_non_schools)]\n",
    "urban_nonschool_df = school_df.copy(deep=True)[school_df['UID'].isin(urban_non_schools)]\n",
    "'''"
   ]
  },
  {
   "cell_type": "code",
   "execution_count": null,
   "id": "bfd2f6a3",
   "metadata": {},
   "outputs": [],
   "source": [
    "# Subset into school and nonschool\n",
    "school_samples_df = school_df_with_clusters.copy(deep=True)[school_df_with_clusters['class'] == 'school']\n",
    "nonschool_samples_df = school_df_with_clusters.copy(deep=True)[school_df_with_clusters['class'] == 'non_school']"
   ]
  },
  {
   "cell_type": "markdown",
   "id": "aeeb85a3",
   "metadata": {},
   "source": [
    "## Dictionary Functions\n",
    "Below functions are used to generate the cluster dictionary based on the defined categories for schools and non-schools for subsetting the data"
   ]
  },
  {
   "cell_type": "code",
   "execution_count": null,
   "id": "3e79f12e",
   "metadata": {},
   "outputs": [],
   "source": [
    "def generate_cluster_dict(cluster_name, school_df, nonschool_df):\n",
    "    \"\"\"\n",
    "    Creates a dictionary of relevant dfs per cluster\n",
    "    :param: cluster_name: cluster id\n",
    "    :param: school_df: df of school samples\n",
    "    :param: nonschool_df: df of non-school samples\n",
    "    \n",
    "    :return: dictionary of dataframes for the cluster\n",
    "    \"\"\"\n",
    "    cluster_dict = {}\n",
    "    cluster_dict['schools'] = school_df[school_df['shapeName'] == cluster_name].reset_index().drop(columns=['index'])\n",
    "    cluster_dict['nonschools'] = nonschool_df[nonschool_df['shapeName'] == cluster_name].reset_index().drop(columns=['index'])\n",
    "    \n",
    "    # Defining building types for non-schools (to update to not have to make case sensitive)\n",
    "    clinics = ['clinic', 'hospital', 'health', 'medical', 'Clinic', 'Hospital', 'Health', 'Medical']\n",
    "    police = ['police', 'Police']\n",
    "    farm = ['farm', 'Farm']\n",
    "    \n",
    "    # Dropping samples with no names for nonschools as we can't identify these by category\n",
    "    nonschools_no_nan = nonschool_df.dropna(subset=['name'])\n",
    "    \n",
    "    # Adding filtered non-schools for cluster to dictionary\n",
    "    cluster_dict['clinics'] = filter_df(nonschools_no_nan, clinics)\n",
    "    cluster_dict['police'] = filter_df(nonschools_no_nan, police)\n",
    "    cluster_dict['farms'] = filter_df(nonschools_no_nan, farm)\n",
    "    \n",
    "    # Subset for urban and rural schools\n",
    "    cluster_dict['urban_schools'] = school_df[school_df['rurban'] == 'urban'].reset_index().drop(columns=['index'])\n",
    "    cluster_dict['rural_schools'] = school_df[school_df['rurban'] == 'rural'].reset_index().drop(columns=['index'])\n",
    "    \n",
    "    # Subset for urban and rural nonschools\n",
    "    cluster_dict['urban_nonschools'] = nonschool_df[nonschool_df['rurban'] == 'urban'].reset_index().drop(columns=['index'])\n",
    "    cluster_dict['rural_nonschools'] = nonschool_df[nonschool_df['rurban'] == 'rural'].reset_index().drop(columns=['index'])\n",
    "    \n",
    "    return cluster_dict"
   ]
  },
  {
   "cell_type": "code",
   "execution_count": null,
   "id": "1a35726c",
   "metadata": {},
   "outputs": [],
   "source": [
    "# Loop through dataframes per cluster and add movement data, then normalize\n",
    "def generate_hourly_movement_per_cluster(cluster_dict, cluster_id, intersection):\n",
    "    \"\"\"\n",
    "    Generate a dictionary for cluster specified of \n",
    "    normalized hourly movement data\n",
    "    :param: cluster_dict: dictionary of dataframes per cluster\n",
    "    :param: cluster_id: cluster id\n",
    "    :param: intersection: integer representing buffer extent, if 0, represents direct intersection\n",
    "    :return: dictionary of hourly weekday and weekend mobility data\n",
    "    \"\"\"\n",
    "    mobility_cluster_dict = {'oct': None, 'nov': None, 'dec': None, 'all': None}\n",
    "    dates = ['oct', 'nov', 'dec', 'all']\n",
    "    for date in dates:\n",
    "        date_dict = {}\n",
    "        for key in cluster_dict.keys():\n",
    "            df = cluster_dict[key]\n",
    "            print('Running for key: {}'.format(key))\n",
    "            df_with_movement = add_movement_data(df, hourly_movement_df, date, intersection)\n",
    "            movement_hourly_weekday = calc_hourly_average_ai(df_with_movement, 0)\n",
    "            movement_hourly_weekend = calc_hourly_average_ai(df_with_movement, 1)\n",
    "            \n",
    "            # normalize so we can cross-compare regions\n",
    "            if movement_hourly_weekday is not None:\n",
    "                movement_hourly_weekday_norm = max_min_normalize(movement_hourly_weekday)\n",
    "            else:\n",
    "                movement_hourly_weekday_norm = None\n",
    "            if movement_hourly_weekend is not None:\n",
    "                movement_hourly_weekend_norm = max_min_normalize(movement_hourly_weekend)\n",
    "            else:\n",
    "                movement_hourly_weekend_norm = None\n",
    "            \n",
    "            date_dict['{}_hourly_weekday_ai'.format(key)] = movement_hourly_weekday_norm\n",
    "            date_dict['{}_hourly_weekend_ai'.format(key)] = movement_hourly_weekend_norm\n",
    "        mobility_cluster_dict[date] = date_dict\n",
    "    \n",
    "    return mobility_cluster_dict"
   ]
  },
  {
   "cell_type": "code",
   "execution_count": null,
   "id": "4aa611c1",
   "metadata": {},
   "outputs": [],
   "source": [
    "def filter_df(df, filter_list):\n",
    "    \"\"\"\n",
    "    Filter df based on filtering list criteria\n",
    "    \"\"\"\n",
    "    df_list = []\n",
    "    for criteria in filter_list:\n",
    "        filt_df = df[df['name'].str.contains(criteria)]\n",
    "        filt_df = filt_df.rename(columns={\"geometry\": \"geo\"})\n",
    "        df_list.append(filt_df)\n",
    "    \n",
    "    combined_df = pd.concat(df_list, axis=0, ignore_index=True)\n",
    "    return combined_df"
   ]
  },
  {
   "cell_type": "markdown",
   "id": "c7096b4d",
   "metadata": {},
   "source": [
    "## Plotting Function(s)"
   ]
  },
  {
   "cell_type": "code",
   "execution_count": 57,
   "id": "7f1a4f12",
   "metadata": {},
   "outputs": [],
   "source": [
    "# Plotting function\n",
    "def plot_activity_index(df, cluster_name, category, time, marker='off'):\n",
    "    \"\"\"\n",
    "    Function to plot activity index. \n",
    "    Call plt.show() after function\n",
    "    :param df: dataframe of activity data\n",
    "    :param cluster_name: name of cluster \n",
    "    :param category: category of df, i.e school, non-school, clinic, etc.\n",
    "    :param time: weekday or weekend\n",
    "    :param marker: specify if markers that represent number of measurements to be included in plot\n",
    "    \"\"\"\n",
    "    plt.plot(df, label='{} Hourly Activity'.format(category))\n",
    "    plt.xlabel('Hour of Day')\n",
    "    plt.ylabel('Activity Index')\n",
    "    ax = plt.gca()\n",
    "    ax.set_ylim([0, 1])\n",
    "    plt.legend(loc='center left', bbox_to_anchor=(1, 0.5))\n",
    "    plt.title('{} {} Activity'.format(cluster_name, time))"
   ]
  },
  {
   "cell_type": "markdown",
   "id": "6f0ec6cd",
   "metadata": {},
   "source": [
    "# Intersection Analysis 4 Clusters"
   ]
  },
  {
   "cell_type": "code",
   "execution_count": null,
   "id": "de91e9b6",
   "metadata": {},
   "outputs": [],
   "source": [
    "school_samples_df = school_samples_df.rename(columns={'cluster': 'shapeName'})\n",
    "nonschool_samples_df = nonschool_samples_df.rename(columns={'cluster': 'shapeName'})\n",
    "school_df_with_clusters = school_df_with_clusters.rename(columns={'cluster': 'shapeName'})"
   ]
  },
  {
   "cell_type": "code",
   "execution_count": 38,
   "id": "78037280",
   "metadata": {},
   "outputs": [],
   "source": [
    "school_df_with_clusters = school_df_with_clusters.to_crs('EPSG:4326')\n",
    "school_samples_df = school_samples_df.to_crs('EPSG:4326')\n",
    "nonschool_samples_df = nonschool_samples_df.to_crs('EPSG:4326')"
   ]
  },
  {
   "cell_type": "code",
   "execution_count": 39,
   "id": "8639d68f",
   "metadata": {},
   "outputs": [],
   "source": [
    "# Create cluster dictionaries\n",
    "cluster_names = school_df_with_clusters['shapeName'].unique()\n",
    "data_dict = {}\n",
    "for name in cluster_names:\n",
    "    data_dict['{}'.format(name)] = generate_cluster_dict(name, school_samples_df, nonschool_samples_df)"
   ]
  },
  {
   "cell_type": "code",
   "execution_count": 73,
   "id": "f01c6bbd",
   "metadata": {},
   "outputs": [],
   "source": [
    "pickle.dump(data_dict, open( \"/Users/kelseydoerksen/Desktop/Giga/SchoolMapping/dict_of_unfiltered_mobility_dfs_4clusters.p\", \"wb\" ))"
   ]
  },
  {
   "cell_type": "code",
   "execution_count": 40,
   "id": "d409443a",
   "metadata": {},
   "outputs": [
    {
     "name": "stdout",
     "output_type": "stream",
     "text": [
      "Running for key: 1\n",
      "Running for key: schools\n",
      "Running for date subset: oct\n",
      "Running for key: nonschools\n",
      "Running for date subset: oct\n",
      "Running for key: clinics\n",
      "Running for date subset: oct\n",
      "Running for key: police\n",
      "Running for date subset: oct\n",
      "Running for key: farms\n",
      "Running for date subset: oct\n",
      "Running for key: urban_schools\n",
      "Running for date subset: oct\n",
      "Running for key: rural_schools\n",
      "Running for date subset: oct\n",
      "Running for key: urban_nonschools\n",
      "Running for date subset: oct\n",
      "Running for key: rural_nonschools\n",
      "Running for date subset: oct\n",
      "Running for key: schools\n",
      "Running for date subset: nov\n",
      "Running for key: nonschools\n",
      "Running for date subset: nov\n",
      "Running for key: clinics\n",
      "Running for date subset: nov\n",
      "Running for key: police\n",
      "Running for date subset: nov\n",
      "Running for key: farms\n",
      "Running for date subset: nov\n",
      "Running for key: urban_schools\n",
      "Running for date subset: nov\n",
      "Running for key: rural_schools\n",
      "Running for date subset: nov\n",
      "Running for key: urban_nonschools\n",
      "Running for date subset: nov\n",
      "Running for key: rural_nonschools\n",
      "Running for date subset: nov\n",
      "Running for key: schools\n",
      "Running for date subset: dec\n",
      "Running for key: nonschools\n",
      "Running for date subset: dec\n",
      "Running for key: clinics\n",
      "Running for date subset: dec\n",
      "Running for key: police\n",
      "Running for date subset: dec\n",
      "Running for key: farms\n",
      "Running for date subset: dec\n",
      "Running for key: urban_schools\n",
      "Running for date subset: dec\n",
      "Running for key: rural_schools\n",
      "Running for date subset: dec\n",
      "Running for key: urban_nonschools\n",
      "Running for date subset: dec\n",
      "Running for key: rural_nonschools\n",
      "Running for date subset: dec\n",
      "Running for key: schools\n",
      "Running for date subset: all\n",
      "Running for key: nonschools\n",
      "Running for date subset: all\n",
      "Running for key: clinics\n",
      "Running for date subset: all\n",
      "Running for key: police\n",
      "Running for date subset: all\n",
      "Running for key: farms\n",
      "Running for date subset: all\n",
      "Running for key: urban_schools\n",
      "Running for date subset: all\n",
      "Running for key: rural_schools\n",
      "Running for date subset: all\n",
      "Running for key: urban_nonschools\n",
      "Running for date subset: all\n",
      "Running for key: rural_nonschools\n",
      "Running for date subset: all\n",
      "Running for key: 3\n",
      "Running for key: schools\n",
      "Running for date subset: oct\n",
      "Running for key: nonschools\n",
      "Running for date subset: oct\n",
      "Running for key: clinics\n",
      "Running for date subset: oct\n",
      "Running for key: police\n",
      "Running for date subset: oct\n",
      "Running for key: farms\n",
      "Running for date subset: oct\n",
      "Running for key: urban_schools\n",
      "Running for date subset: oct\n",
      "Running for key: rural_schools\n",
      "Running for date subset: oct\n",
      "Running for key: urban_nonschools\n",
      "Running for date subset: oct\n",
      "Running for key: rural_nonschools\n",
      "Running for date subset: oct\n",
      "Running for key: schools\n",
      "Running for date subset: nov\n",
      "Running for key: nonschools\n",
      "Running for date subset: nov\n",
      "Running for key: clinics\n",
      "Running for date subset: nov\n",
      "Running for key: police\n",
      "Running for date subset: nov\n",
      "Running for key: farms\n",
      "Running for date subset: nov\n",
      "Running for key: urban_schools\n",
      "Running for date subset: nov\n",
      "Running for key: rural_schools\n",
      "Running for date subset: nov\n",
      "Running for key: urban_nonschools\n",
      "Running for date subset: nov\n",
      "Running for key: rural_nonschools\n",
      "Running for date subset: nov\n",
      "Running for key: schools\n",
      "Running for date subset: dec\n",
      "Running for key: nonschools\n",
      "Running for date subset: dec\n",
      "Running for key: clinics\n",
      "Running for date subset: dec\n",
      "Running for key: police\n",
      "Running for date subset: dec\n",
      "Running for key: farms\n",
      "Running for date subset: dec\n",
      "Running for key: urban_schools\n",
      "Running for date subset: dec\n",
      "Running for key: rural_schools\n",
      "Running for date subset: dec\n",
      "Running for key: urban_nonschools\n",
      "Running for date subset: dec\n",
      "Running for key: rural_nonschools\n",
      "Running for date subset: dec\n",
      "Running for key: schools\n",
      "Running for date subset: all\n",
      "Running for key: nonschools\n",
      "Running for date subset: all\n",
      "Running for key: clinics\n",
      "Running for date subset: all\n",
      "Running for key: police\n",
      "Running for date subset: all\n",
      "Running for key: farms\n",
      "Running for date subset: all\n",
      "Running for key: urban_schools\n",
      "Running for date subset: all\n",
      "Running for key: rural_schools\n",
      "Running for date subset: all\n",
      "Running for key: urban_nonschools\n",
      "Running for date subset: all\n",
      "Running for key: rural_nonschools\n",
      "Running for date subset: all\n",
      "Running for key: 0\n",
      "Running for key: schools\n",
      "Running for date subset: oct\n",
      "Running for key: nonschools\n",
      "Running for date subset: oct\n",
      "Running for key: clinics\n",
      "Running for date subset: oct\n",
      "Running for key: police\n",
      "Running for date subset: oct\n",
      "Running for key: farms\n",
      "Running for date subset: oct\n",
      "Running for key: urban_schools\n",
      "Running for date subset: oct\n",
      "Running for key: rural_schools\n",
      "Running for date subset: oct\n",
      "Running for key: urban_nonschools\n",
      "Running for date subset: oct\n",
      "Running for key: rural_nonschools\n",
      "Running for date subset: oct\n",
      "Running for key: schools\n",
      "Running for date subset: nov\n",
      "Running for key: nonschools\n",
      "Running for date subset: nov\n",
      "Running for key: clinics\n",
      "Running for date subset: nov\n",
      "Running for key: police\n",
      "Running for date subset: nov\n",
      "Running for key: farms\n",
      "Running for date subset: nov\n",
      "Running for key: urban_schools\n",
      "Running for date subset: nov\n",
      "Running for key: rural_schools\n",
      "Running for date subset: nov\n",
      "Running for key: urban_nonschools\n",
      "Running for date subset: nov\n",
      "Running for key: rural_nonschools\n",
      "Running for date subset: nov\n",
      "Running for key: schools\n",
      "Running for date subset: dec\n",
      "Running for key: nonschools\n",
      "Running for date subset: dec\n",
      "Running for key: clinics\n",
      "Running for date subset: dec\n",
      "Running for key: police\n",
      "Running for date subset: dec\n",
      "Running for key: farms\n",
      "Running for date subset: dec\n",
      "Running for key: urban_schools\n",
      "Running for date subset: dec\n",
      "Running for key: rural_schools\n",
      "Running for date subset: dec\n",
      "Running for key: urban_nonschools\n",
      "Running for date subset: dec\n",
      "Running for key: rural_nonschools\n",
      "Running for date subset: dec\n",
      "Running for key: schools\n",
      "Running for date subset: all\n",
      "Running for key: nonschools\n",
      "Running for date subset: all\n",
      "Running for key: clinics\n",
      "Running for date subset: all\n",
      "Running for key: police\n",
      "Running for date subset: all\n",
      "Running for key: farms\n",
      "Running for date subset: all\n",
      "Running for key: urban_schools\n",
      "Running for date subset: all\n",
      "Running for key: rural_schools\n",
      "Running for date subset: all\n",
      "Running for key: urban_nonschools\n",
      "Running for date subset: all\n",
      "Running for key: rural_nonschools\n",
      "Running for date subset: all\n",
      "Running for key: 2\n",
      "Running for key: schools\n",
      "Running for date subset: oct\n",
      "Running for key: nonschools\n",
      "Running for date subset: oct\n",
      "Running for key: clinics\n",
      "Running for date subset: oct\n",
      "Running for key: police\n",
      "Running for date subset: oct\n",
      "Running for key: farms\n",
      "Running for date subset: oct\n",
      "Running for key: urban_schools\n",
      "Running for date subset: oct\n",
      "Running for key: rural_schools\n",
      "Running for date subset: oct\n",
      "Running for key: urban_nonschools\n",
      "Running for date subset: oct\n",
      "Running for key: rural_nonschools\n",
      "Running for date subset: oct\n",
      "Running for key: schools\n",
      "Running for date subset: nov\n",
      "Running for key: nonschools\n",
      "Running for date subset: nov\n",
      "Running for key: clinics\n",
      "Running for date subset: nov\n",
      "Running for key: police\n",
      "Running for date subset: nov\n",
      "Running for key: farms\n",
      "Running for date subset: nov\n",
      "Running for key: urban_schools\n",
      "Running for date subset: nov\n",
      "Running for key: rural_schools\n",
      "Running for date subset: nov\n",
      "Running for key: urban_nonschools\n",
      "Running for date subset: nov\n",
      "Running for key: rural_nonschools\n",
      "Running for date subset: nov\n",
      "Running for key: schools\n",
      "Running for date subset: dec\n",
      "Running for key: nonschools\n",
      "Running for date subset: dec\n",
      "Running for key: clinics\n",
      "Running for date subset: dec\n",
      "Running for key: police\n",
      "Running for date subset: dec\n",
      "Running for key: farms\n",
      "Running for date subset: dec\n",
      "Running for key: urban_schools\n",
      "Running for date subset: dec\n",
      "Running for key: rural_schools\n",
      "Running for date subset: dec\n",
      "Running for key: urban_nonschools\n",
      "Running for date subset: dec\n",
      "Running for key: rural_nonschools\n",
      "Running for date subset: dec\n",
      "Running for key: schools\n",
      "Running for date subset: all\n",
      "Running for key: nonschools\n",
      "Running for date subset: all\n",
      "Running for key: clinics\n",
      "Running for date subset: all\n",
      "Running for key: police\n",
      "Running for date subset: all\n",
      "Running for key: farms\n",
      "Running for date subset: all\n",
      "Running for key: urban_schools\n",
      "Running for date subset: all\n",
      "Running for key: rural_schools\n",
      "Running for date subset: all\n"
     ]
    },
    {
     "name": "stdout",
     "output_type": "stream",
     "text": [
      "Running for key: urban_nonschools\n",
      "Running for date subset: all\n",
      "Running for key: rural_nonschools\n",
      "Running for date subset: all\n"
     ]
    }
   ],
   "source": [
    "# Generate mobility clusters\n",
    "data_mobility_dict = {}\n",
    "for key in data_dict.keys():\n",
    "    print('Running for key: {}'.format(key))\n",
    "    data_mobility_dict['{}'.format(key)] = generate_hourly_movement_per_cluster(data_dict[key], key, 0)"
   ]
  },
  {
   "cell_type": "code",
   "execution_count": 43,
   "id": "6401f6c3",
   "metadata": {},
   "outputs": [],
   "source": [
    "# Save so we don't need to re-run a bunch of times\n",
    "pickle.dump(data_mobility_dict, open( \"/Users/kelseydoerksen/Desktop/Giga/SchoolMapping/dict_of_mobility_dfs_4clusters.p\", \"wb\" ))"
   ]
  },
  {
   "cell_type": "markdown",
   "id": "0801dc0e",
   "metadata": {},
   "source": [
    "## Data Visualization"
   ]
  },
  {
   "cell_type": "code",
   "execution_count": 44,
   "id": "2da7fb10",
   "metadata": {},
   "outputs": [],
   "source": [
    "# Loading pickled data\n",
    "data_mobility_dict_inter = pickle.load(open(\"/Users/kelseydoerksen/Desktop/Giga/SchoolMapping/dict_of_mobility_dfs_4clusters.p\", \"rb\"))"
   ]
  },
  {
   "cell_type": "code",
   "execution_count": 56,
   "id": "f40587a5",
   "metadata": {},
   "outputs": [
    {
     "data": {
      "text/plain": [
       "agg_time_period\n",
       "0.0     1.000000\n",
       "5.0     0.600681\n",
       "6.0     0.219218\n",
       "7.0     0.920766\n",
       "8.0     0.315137\n",
       "9.0     0.124267\n",
       "10.0    0.042909\n",
       "11.0    0.114544\n",
       "12.0    0.008770\n",
       "13.0    0.000000\n",
       "14.0    0.080820\n",
       "15.0    0.040520\n",
       "16.0    0.078089\n",
       "17.0    0.090956\n",
       "18.0    0.164740\n",
       "20.0    0.159555\n",
       "Name: activity_index_total, dtype: float64"
      ]
     },
     "execution_count": 56,
     "metadata": {},
     "output_type": "execute_result"
    }
   ],
   "source": [
    "data_mobility_dict_inter['1']['oct']['schools_hourly_weekend_ai']"
   ]
  },
  {
   "cell_type": "code",
   "execution_count": 45,
   "id": "2a7a4d7a",
   "metadata": {},
   "outputs": [],
   "source": [
    "cluster_id = '1'"
   ]
  },
  {
   "cell_type": "code",
   "execution_count": 58,
   "id": "f4269ce0",
   "metadata": {},
   "outputs": [
    {
     "data": {
      "image/png": "[encoded data removed]",
      "text/plain": [
       "<Figure size 1000x600 with 1 Axes>"
      ]
     },
     "metadata": {},
     "output_type": "display_data"
    }
   ],
   "source": [
    "# Plotting weekend activity of schools, nonschools October\n",
    "plt.figure(figsize=(10, 6))\n",
    "plot_activity_index(data_mobility_dict_inter[cluster_id]['oct']['schools_hourly_weekend_ai'], cluster_id, 'Schools Weekend', 'Weekend')\n",
    "plot_activity_index(data_mobility_dict_inter[cluster_id]['oct']['nonschools_hourly_weekend_ai'], cluster_id, 'Nonschools Weekend', 'Weekend')\n",
    "plt.show()"
   ]
  },
  {
   "cell_type": "code",
   "execution_count": 59,
   "id": "43347104",
   "metadata": {},
   "outputs": [
    {
     "data": {
      "image/png": "[encoded data removed]",
      "text/plain": [
       "<Figure size 1000x600 with 1 Axes>"
      ]
     },
     "metadata": {},
     "output_type": "display_data"
    }
   ],
   "source": [
    "# Plotting weekend activity of schools, nonschools November\n",
    "plt.figure(figsize=(10, 6))\n",
    "plot_activity_index(data_mobility_dict_inter[cluster_id]['nov']['schools_hourly_weekend_ai'], cluster_id, 'Schools Weekend', 'Weekend')\n",
    "plot_activity_index(data_mobility_dict_inter[cluster_id]['nov']['nonschools_hourly_weekend_ai'], cluster_id, 'Nonschools Weekend', 'Weekend')\n",
    "plt.show()"
   ]
  },
  {
   "cell_type": "code",
   "execution_count": 60,
   "id": "355bf801",
   "metadata": {},
   "outputs": [
    {
     "data": {
      "image/png": "[encoded data removed]",
      "text/plain": [
       "<Figure size 1000x600 with 1 Axes>"
      ]
     },
     "metadata": {},
     "output_type": "display_data"
    }
   ],
   "source": [
    "# Plotting weekend activity of schools, nonschools December\n",
    "plt.figure(figsize=(10, 6))\n",
    "plot_activity_index(data_mobility_dict_inter[cluster_id]['dec']['schools_hourly_weekend_ai'], cluster_id, 'Schools Weekend', 'Weekend')\n",
    "plot_activity_index(data_mobility_dict_inter[cluster_id]['dec']['nonschools_hourly_weekend_ai'], cluster_id, 'Nonschools Weekend', 'Weekend')\n",
    "plt.show()"
   ]
  },
  {
   "cell_type": "markdown",
   "id": "f47d2510",
   "metadata": {},
   "source": [
    "# Intersection Analysis ADM2 Clusters\n",
    "Below analysis is for using only the MapBox data for which the school/non-school samples directly overlap the z18 quadkey tile for"
   ]
  },
  {
   "cell_type": "code",
   "execution_count": null,
   "id": "429f667e",
   "metadata": {},
   "outputs": [],
   "source": [
    "# Create cluster dictionaries\n",
    "cluster_names = school_df_with_clusters['shapeName'].unique()\n",
    "data_dict = {}\n",
    "for name in cluster_names:\n",
    "    data_dict['{}'.format(name)] = generate_cluster_dict(name, school_samples_df, nonschool_samples_df)"
   ]
  },
  {
   "cell_type": "code",
   "execution_count": null,
   "id": "7d680529",
   "metadata": {},
   "outputs": [],
   "source": [
    "# Generate mobility clusters\n",
    "data_mobility_dict = {}\n",
    "for key in data_dict.keys():\n",
    "    print('Running for key: {}'.format(key))\n",
    "    data_mobility_dict['{}'.format(key)] = generate_hourly_movement_per_cluster(data_dict[key], key, 0)"
   ]
  },
  {
   "cell_type": "code",
   "execution_count": null,
   "id": "59faaf5a",
   "metadata": {},
   "outputs": [],
   "source": [
    "# Save so we don't need to re-run a bunch of times\n",
    "pickle.dump(data_mobility_dict, open( \"/Users/kelseydoerksen/Desktop/Giga/SchoolMapping/dict_of_mobility_dfs.p\", \"wb\" ))"
   ]
  },
  {
   "cell_type": "markdown",
   "id": "862745d2",
   "metadata": {},
   "source": [
    "## Data Visualization"
   ]
  },
  {
   "cell_type": "code",
   "execution_count": null,
   "id": "f50290a4",
   "metadata": {},
   "outputs": [],
   "source": [
    "# Loading pickled data\n",
    "data_mobility_dict_inter = pickle.load(open(\"/Users/kelseydoerksen/Desktop/Giga/SchoolMapping/dict_of_mobility_dfs.p\", \"rb\"))"
   ]
  },
  {
   "cell_type": "code",
   "execution_count": null,
   "id": "0ac57f6c",
   "metadata": {},
   "outputs": [],
   "source": [
    "cluster_id = 'Kweneng District'"
   ]
  },
  {
   "cell_type": "code",
   "execution_count": null,
   "id": "cd33aa40",
   "metadata": {},
   "outputs": [],
   "source": [
    "# Plotting weekend activity of schools, nonschools October\n",
    "plt.figure(figsize=(10, 6))\n",
    "plot_activity_index(data_mobility_dict_inter[cluster_id]['oct']['schools_hourly_weekend_ai'], cluster_id, 'Schools Weekend', 'Weekend')\n",
    "plot_activity_index(data_mobility_dict_inter[cluster_id]['oct']['nonschools_hourly_weekend_ai'], cluster_id, 'Nonschools Weekend', 'Weekend')\n",
    "plt.show()"
   ]
  },
  {
   "cell_type": "code",
   "execution_count": null,
   "id": "752e2e2b",
   "metadata": {},
   "outputs": [],
   "source": [
    "# Plotting weekend activity of schools, nonschools November\n",
    "plt.figure(figsize=(10, 6))\n",
    "plot_activity_index(data_mobility_dict_inter[cluster_id]['nov']['schools_hourly_weekend_ai'], cluster_id, 'Schools Weekend Nov', 'Weekend')\n",
    "plot_activity_index(data_mobility_dict_inter[cluster_id]['nov']['nonschools_hourly_weekend_ai'], cluster_id, 'Nonschools Weekend Nov', 'Weekend')\n",
    "plt.show()"
   ]
  },
  {
   "cell_type": "code",
   "execution_count": null,
   "id": "a07228d0",
   "metadata": {},
   "outputs": [],
   "source": [
    "# Plotting weekend activity of schools, nonschools December\n",
    "plt.figure(figsize=(10, 6))\n",
    "plot_activity_index(data_mobility_dict_inter[cluster_id]['dec']['schools_hourly_weekend_ai'], cluster_id, 'Schools Weekend Nov', 'Weekend')\n",
    "plot_activity_index(data_mobility_dict_inter[cluster_id]['dec']['nonschools_hourly_weekend_ai'], cluster_id, 'Nonschools Weekend Nov', 'Weekend')\n",
    "plt.show()"
   ]
  },
  {
   "cell_type": "markdown",
   "id": "fbd66d47",
   "metadata": {},
   "source": [
    "# Buffer Analysis\n",
    "\n",
    "1. Define 300m boundary for each school/non-school sample\n",
    "2. Get a list of MapBox quadkey tiles that overlap school/non-school buffer zone\n",
    "3. Take summary statistics of MapBox movement data"
   ]
  },
  {
   "cell_type": "code",
   "execution_count": null,
   "id": "b1e76494",
   "metadata": {},
   "outputs": [],
   "source": [
    "# Get circle buffer and add to school_df\n",
    "school_df['aeqd_reproj_circle'] = school_df['geometry'].apply(aeqd_reproj_buffer)"
   ]
  },
  {
   "cell_type": "code",
   "execution_count": null,
   "id": "70504ad2",
   "metadata": {},
   "outputs": [],
   "source": [
    "# Add zoom level 18 quadkeys to school dataset\n",
    "school_df['z18_quadkeys'] = school_df.apply(lambda x: generate_quadkeys(x['aeqd_reproj_circle'], 18),axis=1)"
   ]
  },
  {
   "cell_type": "markdown",
   "id": "92145ee0",
   "metadata": {},
   "source": [
    "### Subset Non-Schools based on building type\n",
    "We know that our ML models struggle with False Positives on samples represented by hospitals & clinics, police stations and farmsteads. In theory, the activity level around these types of buildings vs schools should be different, so we would like to subset the samples by these categories to observe"
   ]
  },
  {
   "cell_type": "code",
   "execution_count": null,
   "id": "7b2baf69",
   "metadata": {},
   "outputs": [],
   "source": [
    "# Dropping nans from samples because we can't associate them with building type if not defined\n",
    "school_df_no_nan = nonschool_samples_df.dropna(subset=['name'])"
   ]
  },
  {
   "cell_type": "code",
   "execution_count": null,
   "id": "6483ed74",
   "metadata": {},
   "outputs": [],
   "source": [
    "# Defining building types for non-schools (to update to not have to make case sensitive)\n",
    "clinics = ['clinic', 'hospital', 'health', 'medical', 'Clinic', 'Hospital', 'Health', 'Medical']\n",
    "police = ['police', 'Police']\n",
    "farm = ['farm', 'Farm']"
   ]
  },
  {
   "cell_type": "code",
   "execution_count": null,
   "id": "9a243a8f",
   "metadata": {},
   "outputs": [],
   "source": [
    "clinic_df = filter_df(school_df_no_nan, clinics)\n",
    "police_df = filter_df(school_df_no_nan, police)\n",
    "farm_df = filter_df(school_df_no_nan, farm)"
   ]
  },
  {
   "cell_type": "markdown",
   "id": "77952383",
   "metadata": {},
   "source": [
    "### Subsetting data into Clusters by Administrative Zones"
   ]
  },
  {
   "cell_type": "code",
   "execution_count": null,
   "id": "c010c472",
   "metadata": {},
   "outputs": [],
   "source": [
    "# Create cluster dictionaries\n",
    "cluster_names = school_df_with_clusters['shapeName'].unique()\n",
    "data_dict = {}\n",
    "for name in cluster_names:\n",
    "    data_dict['{}'.format(name)] = generate_cluster_dict(name, school_samples_df, nonschool_samples_df)"
   ]
  },
  {
   "cell_type": "code",
   "execution_count": null,
   "id": "a9a174b8",
   "metadata": {},
   "outputs": [],
   "source": [
    "# Generate mobility clusters\n",
    "data_mobility_dict = {}\n",
    "for key in data_dict.keys():\n",
    "    print('Running for key: {}'.format(key))\n",
    "    data_mobility_dict['{}'.format(key)] = generate_hourly_movement_per_cluster(data_dict[key], key)"
   ]
  },
  {
   "cell_type": "code",
   "execution_count": null,
   "id": "de8ac5a1",
   "metadata": {},
   "outputs": [],
   "source": [
    "# Save so we don't need to re-run a bunch of times\n",
    "pickle.dump(data_mobility_dict, open( \"Users/kdoerksen/dict_of_mobility_dfs_300m_buffer.p\", \"wb\" ))"
   ]
  },
  {
   "cell_type": "markdown",
   "id": "327d735c",
   "metadata": {},
   "source": [
    "## Data Visualzation"
   ]
  },
  {
   "cell_type": "code",
   "execution_count": null,
   "id": "4abc9b78",
   "metadata": {},
   "outputs": [],
   "source": [
    "# Loading pickled data\n",
    "data_mobility_dict = pickle.load(open(\"Users/kdoerksen/dict_of_mobility_dfs_300m_buffer.p\", \"rb\"))"
   ]
  },
  {
   "cell_type": "markdown",
   "id": "0223e310",
   "metadata": {},
   "source": [
    "## Category Data Visualization"
   ]
  },
  {
   "cell_type": "markdown",
   "id": "ec800b04",
   "metadata": {},
   "source": [
    "### Schools"
   ]
  },
  {
   "cell_type": "code",
   "execution_count": null,
   "id": "57428174",
   "metadata": {},
   "outputs": [],
   "source": [
    "school_samples_df = school_samples_df.reset_index().drop(columns=['index'])\n",
    "school_samples_df_with_movement = add_movement_data(school_samples_df, hourly_movement_df, 'nov')\n",
    "school_samples_hourly_weekday = calc_hourly_average_ai(school_samples_df_with_movement,0)\n",
    "# Plotting\n",
    "plot_activity_index(school_samples_hourly_weekday, 'Schools', 'schools', 'Weekday', marker='off')\n",
    "plt.show()"
   ]
  },
  {
   "cell_type": "markdown",
   "id": "681631c0",
   "metadata": {},
   "source": [
    "### Non-Schools"
   ]
  },
  {
   "cell_type": "code",
   "execution_count": null,
   "id": "6625e665",
   "metadata": {},
   "outputs": [],
   "source": [
    "nonschool_samples_df = school_samples_df.reset_index().drop(columns=['index'])\n",
    "nonschool_samples_df_with_movement = add_movement_data(nonschool_samples_df, hourly_movement_df, 'nov')\n",
    "nonschool_samples_hourly_weekday = calc_hourly_average_ai(nonschool_samples_df_with_movement,0)\n",
    "# Plotting\n",
    "plot_activity_index(nonschool_samples_hourly_weekday, 'Non-Schools', 'schools', 'Weekday', marker='off')\n",
    "plt.show()"
   ]
  },
  {
   "cell_type": "markdown",
   "id": "e9f4ff82",
   "metadata": {},
   "source": [
    "### Clinics"
   ]
  },
  {
   "cell_type": "code",
   "execution_count": null,
   "id": "e2e092d8",
   "metadata": {},
   "outputs": [],
   "source": [
    "clinic_df = clinic_df.reset_index().drop(columns=['index'])\n",
    "clinic_df_with_movement = add_movement_data(clinic_df, hourly_movement_df, 'nov')\n",
    "clinic_df_sum_hourly_weekday = calc_hourly_average_ai(clinic_df_with_movement,0)\n",
    "clinic_df_sum_hourly_weekend = calc_hourly_average_ai(clinic_df_with_movement,1)"
   ]
  },
  {
   "cell_type": "code",
   "execution_count": null,
   "id": "573e3d53",
   "metadata": {},
   "outputs": [],
   "source": [
    "# Plotting\n",
    "plot_activity_index(clinic_df_sum_hourly_weekday, 'Clinic', 'clinic', 'Weekday', marker='on')\n",
    "plt.show()"
   ]
  },
  {
   "cell_type": "markdown",
   "id": "78ed9336",
   "metadata": {},
   "source": [
    "### Police Stations"
   ]
  },
  {
   "cell_type": "code",
   "execution_count": null,
   "id": "cfa0f345",
   "metadata": {},
   "outputs": [],
   "source": [
    "police_df = police_df.reset_index().drop(columns=['index'])\n",
    "police_df_with_movement = add_movement_data(police_df, hourly_movement_df, 'nov')\n",
    "police_df_sum_hourly_weekday = calc_hourly_average_ai(police_df_with_movement,0)\n",
    "police_df_sum_hourly_weekend = calc_hourly_average_ai(police_df_with_movement,1)"
   ]
  },
  {
   "cell_type": "code",
   "execution_count": null,
   "id": "98528895",
   "metadata": {},
   "outputs": [],
   "source": [
    "# Plotting\n",
    "plot_activity_index(police_df_sum_hourly_weekday, 'Police', 'police', 'Weekday', marker='on')\n",
    "plt.show()"
   ]
  },
  {
   "cell_type": "markdown",
   "id": "2aaf6675",
   "metadata": {},
   "source": [
    "### Farms"
   ]
  },
  {
   "cell_type": "code",
   "execution_count": null,
   "id": "73fd7e00",
   "metadata": {},
   "outputs": [],
   "source": [
    "farm_df = farm_df.reset_index().drop(columns=['index'])\n",
    "farm_df_with_movement = add_movement_data(farm_df, hourly_movement_df, 'nov')\n",
    "farm_df_sum_hourly_weekday = calc_hourly_average_ai(farm_df_with_movement,0)"
   ]
  },
  {
   "cell_type": "code",
   "execution_count": null,
   "id": "a5da5845",
   "metadata": {},
   "outputs": [],
   "source": [
    "# Plotting\n",
    "plot_activity_index(farm_df_sum_hourly_weekday, 'Farm', 'farm', 'Weekday', marker='on')\n",
    "plt.show()"
   ]
  },
  {
   "cell_type": "markdown",
   "id": "9493b908",
   "metadata": {},
   "source": [
    "### Schools, Clinics, Police, Farms"
   ]
  },
  {
   "cell_type": "code",
   "execution_count": null,
   "id": "8335de0d",
   "metadata": {},
   "outputs": [],
   "source": [
    "plt. figure(figsize=(10, 6))\n",
    "plot_activity_index(school_samples_hourly_weekday, 'Schools', 'schools', 'Weekday')\n",
    "plot_activity_index(clinic_df_sum_hourly_weekday, 'Clinic', 'clinic', 'Weekday')\n",
    "plot_activity_index(police_df_sum_hourly_weekday, 'Police', 'police', 'Weekday')\n",
    "plot_activity_index(farm_df_sum_hourly_weekday, 'Farm', 'farm', 'Weekday')\n",
    "plt.show()"
   ]
  },
  {
   "cell_type": "markdown",
   "id": "30d342e4",
   "metadata": {},
   "source": [
    "## Clustered Data Visualization"
   ]
  },
  {
   "cell_type": "markdown",
   "id": "9693a906",
   "metadata": {},
   "source": [
    "## Plotting\n",
    "Hard-coding for Southern District, November, can be updated based on what cluster you want to analyze"
   ]
  },
  {
   "cell_type": "code",
   "execution_count": null,
   "id": "4f299cb6",
   "metadata": {},
   "outputs": [],
   "source": [
    "cluster_id = 'Southern District'"
   ]
  },
  {
   "cell_type": "code",
   "execution_count": null,
   "id": "cf0c2da9",
   "metadata": {},
   "outputs": [],
   "source": [
    "# Plotting weekday schools, police, clinics and farms\n",
    "schools_marker_sizes= data_mobility_dict[cluster_id]['nov']['schools_hourly_weekday_ai']['measurements_count']\n",
    "police_marker_sizes= data_mobility_dict[cluster_id]['nov']['police_hourly_weekday_ai']['measurements_count']\n",
    "clinics_marker_sizes= data_mobility_dict[cluster_id]['nov']['clinics_hourly_weekday_ai']['measurements_count']\n",
    "farms_marker_sizes= data_mobility_dict[cluster_id]['nov']['farms_hourly_weekday_ai']['measurements_count']\n",
    "\n",
    "plt. figure(figsize=(10, 6))\n",
    "plot_activity_index(data_mobility_dict[cluster_id]['nov']['schools_hourly_weekday_ai'], cluster_id, 'Schools', 'Weekday')\n",
    "plot_activity_index(data_mobility_dict[cluster_id]['nov']['police_hourly_weekday_ai'], cluster_id, 'Police', 'Weekday')\n",
    "plot_activity_index(data_mobility_dict[cluster_id]['nov']['clinics_hourly_weekday_ai'], cluster_id, 'Clinics', 'Weekday')\n",
    "plot_activity_index(data_mobility_dict[cluster_id]['nov']['farms_hourly_weekday_ai'], cluster_id, 'Farms', 'Weekday')\n",
    "plt.show()"
   ]
  },
  {
   "cell_type": "markdown",
   "id": "3230e02a",
   "metadata": {},
   "source": [
    "### Temporal Comparison"
   ]
  },
  {
   "cell_type": "code",
   "execution_count": null,
   "id": "1010ab1f",
   "metadata": {},
   "outputs": [],
   "source": [
    "plt.figure(figsize=(10, 6))\n",
    "plot_activity_index(data_mobility_dict[cluster_id]['oct']['schools_hourly_weekday_ai'], cluster_id, 'Oct Schools', 'Weekday')\n",
    "plot_activity_index(data_mobility_dict[cluster_id]['nov']['schools_hourly_weekday_ai'], cluster_id, 'Nov Schools', 'Weekday')\n",
    "plot_activity_index(data_mobility_dict[cluster_id]['dec']['schools_hourly_weekday_ai'], cluster_id, 'Dec Schools', 'Weekday')\n",
    "plt.show()"
   ]
  },
  {
   "cell_type": "markdown",
   "id": "48382eba",
   "metadata": {},
   "source": [
    "## Cluster Comparison Schools"
   ]
  },
  {
   "cell_type": "code",
   "execution_count": null,
   "id": "7e2084bd",
   "metadata": {},
   "outputs": [],
   "source": [
    "plt. figure(figsize=(20, 10))\n",
    "for adm_zone in data_mobility_dict.keys():\n",
    "    plot_activity_index(data_mobility_dict[adm_zone]['oct']['schools_hourly_weekday_ai'], adm_zone, 'Nov Schools', 'Weekday')\n",
    "plt.title('All Cluster School Analaysis November')\n",
    "plt.show()"
   ]
  }
 ],
 "metadata": {
  "kernelspec": {
   "display_name": "Python 3 (ipykernel)",
   "language": "python",
   "name": "python3"
  },
  "language_info": {
   "codemirror_mode": {
    "name": "ipython",
    "version": 3
   },
   "file_extension": ".py",
   "mimetype": "text/x-python",
   "name": "python",
   "nbconvert_exporter": "python",
   "pygments_lexer": "ipython3",
   "version": "3.10.9"
  }
 },
 "nbformat": 4,
 "nbformat_minor": 5
}
