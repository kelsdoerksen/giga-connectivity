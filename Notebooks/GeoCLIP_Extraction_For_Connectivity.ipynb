{
  "nbformat": 4,
  "nbformat_minor": 0,
  "metadata": {
    "colab": {
      "provenance": [],
      "gpuType": "T4",
      "include_colab_link": true
    },
    "kernelspec": {
      "name": "python3",
      "display_name": "Python 3"
    },
    "language_info": {
      "name": "python"
    },
    "accelerator": "GPU"
  },
  "cells": [
    {
      "cell_type": "markdown",
      "metadata": {
        "id": "view-in-github",
        "colab_type": "text"
      },
      "source": [
        "<a href=\"https://colab.research.google.com/github/kelsdoerksen/giga-connectivity/blob/main/GeoCLIP_Extraction_For_Connectivity.ipynb\" target=\"_parent\"><img src=\"https://colab.research.google.com/assets/colab-badge.svg\" alt=\"Open In Colab\"/></a>"
      ]
    },
    {
      "cell_type": "markdown",
      "source": [
        "## C02 - Use GeoCLIP embeddings\n",
        "\n",
        "Simple example of how to obtain pretrained GeoCLIP embeddings. Read the paper here:[https://arxiv.org/abs/2309.16020](https://arxiv.org/abs/2309.16020). First install the geoclip package (see [https://github.com/VicenteVivan/geo-clip](https://github.com/VicenteVivan/geo-clip))"
      ],
      "metadata": {
        "id": "ngz8zz9Gvbxh"
      }
    },
    {
      "cell_type": "code",
      "execution_count": null,
      "metadata": {
        "id": "tD7wze7andRh"
      },
      "outputs": [],
      "source": [
        "!pip install geoclip"
      ]
    },
    {
      "cell_type": "code",
      "source": [
        "from geoclip import LocationEncoder\n",
        "import torch\n",
        "import torch.nn as nn\n",
        "import pandas as pd\n",
        "import ast"
      ],
      "metadata": {
        "id": "PbEXGDUo8JC3"
      },
      "execution_count": null,
      "outputs": []
    },
    {
      "cell_type": "markdown",
      "source": [
        "Load the pretrained model directly."
      ],
      "metadata": {
        "id": "nPc2yi39yRje"
      }
    },
    {
      "cell_type": "code",
      "source": [
        "model = LocationEncoder()"
      ],
      "metadata": {
        "id": "Q72Ypu0Cr3Sc"
      },
      "execution_count": null,
      "outputs": []
    },
    {
      "cell_type": "markdown",
      "source": [
        "Obtain GeoCLIP location embeddings."
      ],
      "metadata": {
        "id": "Y8XaPTs6yUu9"
      }
    },
    {
      "cell_type": "code",
      "source": [
        "# Get [lon, lat] of schools as float.64 tensor to extract embeddings for\n",
        "\n",
        "def get_coords(df):\n",
        "  \"\"\"\n",
        "  Function to return coords of school locations\n",
        "  as 2D tensor to extract GeoCLIP embeddings for\n",
        "  in order lon, lat\n",
        "  \"\"\"\n",
        "\n",
        "  total_coords = []\n",
        "  for i in range(len(df)):\n",
        "    coord = torch.tensor((df.loc[i]['lon'], df.loc[i]['lat']))\n",
        "    total_coords.append(coord)\n",
        "\n",
        "  locations = torch.stack(total_coords)\n",
        "\n",
        "  return locations"
      ],
      "metadata": {
        "id": "ph-sA8PoaDXp"
      },
      "execution_count": null,
      "outputs": []
    },
    {
      "cell_type": "code",
      "source": [
        "# Processing data for locations for the embeddings to be extracted from\n",
        "aoi = 'BWA'\n",
        "split = 'Testing'\n",
        "aoi_df = pd.read_csv('{}Data_uncorrelated_fixed.csv'.format(split))"
      ],
      "metadata": {
        "id": "EbmoyJdnRipR"
      },
      "execution_count": null,
      "outputs": []
    },
    {
      "cell_type": "code",
      "source": [
        "# Get coordinates for aoi of interest\n",
        "coords = get_coords(aoi_df)"
      ],
      "metadata": {
        "id": "yTCFipZQRmNK"
      },
      "execution_count": null,
      "outputs": []
    },
    {
      "cell_type": "code",
      "source": [
        "model.eval()\n",
        "with torch.no_grad():\n",
        "  emb = model(coords.flip(1).float()).detach().cpu()"
      ],
      "metadata": {
        "id": "eWV6S2SmsX_O"
      },
      "execution_count": null,
      "outputs": []
    },
    {
      "cell_type": "code",
      "source": [
        "emb.shape"
      ],
      "metadata": {
        "id": "3rib-U9ztCCg"
      },
      "execution_count": null,
      "outputs": []
    },
    {
      "cell_type": "code",
      "source": [
        "identifying_info_df = aoi_df[['giga_id_school', 'connectivity', 'lat', 'lon']]\n",
        "emb_df = pd.DataFrame(emb.numpy())\n",
        "emb_df_labelled = pd.concat([identifying_info_df, emb_df], axis=1)\n",
        "emb_df_labelled['data_split'] = split"
      ],
      "metadata": {
        "id": "pDVAc02hHjtY"
      },
      "execution_count": null,
      "outputs": []
    },
    {
      "cell_type": "code",
      "source": [
        "# Export to dataframe\n",
        "emb_df_labelled.to_csv('{}_GeoCLIP_embeddings_{}.csv'.format(aoi, split))"
      ],
      "metadata": {
        "id": "bH40uN9YRvo0"
      },
      "execution_count": null,
      "outputs": []
    }
  ]
}