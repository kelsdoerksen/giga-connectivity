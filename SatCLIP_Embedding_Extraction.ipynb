{
  "nbformat": 4,
  "nbformat_minor": 0,
  "metadata": {
    "colab": {
      "provenance": [],
      "authorship_tag": "ABX9TyOxOBbcAEKEAVXlIzumitqa",
      "include_colab_link": true
    },
    "kernelspec": {
      "name": "python3",
      "display_name": "Python 3"
    },
    "language_info": {
      "name": "python"
    }
  },
  "cells": [
    {
      "cell_type": "markdown",
      "metadata": {
        "id": "view-in-github",
        "colab_type": "text"
      },
      "source": [
        "<a href=\"https://colab.research.google.com/github/kelsdoerksen/giga-connectivity/blob/main/SatCLIP_Embedding_Extraction.ipynb\" target=\"_parent\"><img src=\"https://colab.research.google.com/assets/colab-badge.svg\" alt=\"Open In Colab\"/></a>"
      ]
    },
    {
      "cell_type": "markdown",
      "source": [
        "Script for extracting feature embeddings for the lat,lon school locations to use for connectivity prediction"
      ],
      "metadata": {
        "id": "8qstJ46AKbca"
      }
    },
    {
      "cell_type": "code",
      "execution_count": null,
      "metadata": {
        "id": "OaxzYb2FI34z"
      },
      "outputs": [],
      "source": [
        "!rm -r sample_data .config # Empty current directory\n",
        "!git clone https://github.com/microsoft/satclip.git . # Clone SatCLIP repository"
      ]
    },
    {
      "cell_type": "code",
      "source": [
        "!pip install lightning --quiet\n",
        "!pip install rasterio --quiet\n",
        "!pip install torchgeo --quiet\n",
        "!pip install basemap --quiet"
      ],
      "metadata": {
        "id": "rO5dwFSMKk2E"
      },
      "execution_count": null,
      "outputs": []
    },
    {
      "cell_type": "code",
      "source": [
        "# Loading required packages\n",
        "import sys\n",
        "import pandas as pd\n",
        "sys.path.append('./satclip')\n",
        "\n",
        "import torch\n",
        "from load import get_satclip\n",
        "\n",
        "device = torch.device('cuda' if torch.cuda.is_available() else 'cpu') # Automatically select device"
      ],
      "metadata": {
        "id": "1y-n5rRJMSI5"
      },
      "execution_count": null,
      "outputs": []
    },
    {
      "cell_type": "code",
      "source": [
        "# Get [lon, lat] of schools as float.64 tensor to extract embeddings for\n",
        "\n",
        "def get_coords(df):\n",
        "  \"\"\"\n",
        "  Function to return coords of school locations\n",
        "  as 2D tensor to extract GeoCLIP embeddings for\n",
        "  in order lon, lat\n",
        "  \"\"\"\n",
        "\n",
        "  total_coords = []\n",
        "  for i in range(len(df)):\n",
        "    coord = torch.tensor((df.loc[i]['lon'], df.loc[i]['lat']))\n",
        "    total_coords.append(coord)\n",
        "\n",
        "  locations = torch.stack(total_coords)\n",
        "\n",
        "  return locations"
      ],
      "metadata": {
        "id": "ySbkhuHQM1Di"
      },
      "execution_count": null,
      "outputs": []
    },
    {
      "cell_type": "markdown",
      "source": [
        "SatCLIP model names:\n",
        "\n",
        "*   satclip-resnet18-l10\n",
        "*   satclip-resnet18-l40\n",
        "*   satclip-resnet50-l10\n",
        "*   satclip-resnet50-l40\n",
        "*   satclip-vit16-l10\n",
        "*   satclip-vit16-l40"
      ],
      "metadata": {
        "id": "i9eozuj86856"
      }
    },
    {
      "cell_type": "code",
      "source": [
        "# Processing data for locations for the embeddings to be extracted from\n",
        "aoi = 'RWA'\n",
        "split = 'Testing'\n",
        "aoi_df = pd.read_csv('{}Data_uncorrelated_fixed.csv'.format(split))"
      ],
      "metadata": {
        "id": "APOJ8DHTuSoc"
      },
      "execution_count": null,
      "outputs": []
    },
    {
      "cell_type": "code",
      "source": [
        "# Get coordinates for aoi of interest\n",
        "coords = get_coords(aoi_df)"
      ],
      "metadata": {
        "id": "Qv9cvjoUmRks"
      },
      "execution_count": null,
      "outputs": []
    },
    {
      "cell_type": "code",
      "source": [
        "satclip_model = 'satclip-resnet50-l40'"
      ],
      "metadata": {
        "id": "GSoGYNeO5dtl"
      },
      "execution_count": null,
      "outputs": []
    },
    {
      "cell_type": "code",
      "source": [
        "# Grab embeddings for each model type\n",
        "embeddings = []\n",
        "\n",
        "!wget 'https://satclip.z13.web.core.windows.net/satclip/satclip-resnet50-l40.ckpt'\n",
        "model = get_satclip('satclip-resnet50-l40.ckpt', device=device)\n",
        "model.eval()\n",
        "with torch.no_grad():\n",
        "  x  = model(coords.double().to(device)).detach().cpu()\n"
      ],
      "metadata": {
        "id": "j8qFpAihbVQB"
      },
      "execution_count": null,
      "outputs": []
    },
    {
      "cell_type": "code",
      "source": [
        "identifying_info_df = aoi_df[['giga_id_school', 'connectivity', 'lat', 'lon']]\n",
        "emb_df = pd.DataFrame(x.numpy())"
      ],
      "metadata": {
        "id": "xbrgEqqxxtd2"
      },
      "execution_count": null,
      "outputs": []
    },
    {
      "cell_type": "code",
      "source": [
        "emb_df_labelled = pd.concat([identifying_info_df, emb_df], axis=1)"
      ],
      "metadata": {
        "id": "y460XFT1xvTM"
      },
      "execution_count": null,
      "outputs": []
    },
    {
      "cell_type": "code",
      "source": [
        "emb_df_labelled['data_split'] = split"
      ],
      "metadata": {
        "id": "x-vWyMx3yIXy"
      },
      "execution_count": null,
      "outputs": []
    },
    {
      "cell_type": "code",
      "source": [
        "# Export to dataframe\n",
        "emb_df_labelled.to_csv('{}_{}_embeddings_{}.csv'.format(aoi, satclip_model, split))"
      ],
      "metadata": {
        "id": "Hp6yxtmtxLvL"
      },
      "execution_count": null,
      "outputs": []
    }
  ]
}